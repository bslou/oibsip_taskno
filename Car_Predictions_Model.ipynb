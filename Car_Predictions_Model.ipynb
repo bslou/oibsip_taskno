{
  "nbformat": 4,
  "nbformat_minor": 0,
  "metadata": {
    "colab": {
      "provenance": [],
      "authorship_tag": "ABX9TyMbnKk/fhW9b3KLerl/h4wc",
      "include_colab_link": true
    },
    "kernelspec": {
      "name": "python3",
      "display_name": "Python 3"
    },
    "language_info": {
      "name": "python"
    }
  },
  "cells": [
    {
      "cell_type": "markdown",
      "metadata": {
        "id": "view-in-github",
        "colab_type": "text"
      },
      "source": [
        "<a href=\"https://colab.research.google.com/github/bslou/oibsip_taskno/blob/main/Car_Predictions_Model.ipynb\" target=\"_parent\"><img src=\"https://colab.research.google.com/assets/colab-badge.svg\" alt=\"Open In Colab\"/></a>"
      ]
    },
    {
      "cell_type": "markdown",
      "source": [
        "**These are all of the imports!**"
      ],
      "metadata": {
        "id": "vyHNaCm4Um8I"
      }
    },
    {
      "cell_type": "code",
      "execution_count": 2,
      "metadata": {
        "id": "X-eUnfwwUMfM"
      },
      "outputs": [],
      "source": [
        "import pandas as pd\n",
        "import os\n",
        "import numpy as np\n",
        "import tensorflow as tf\n",
        "from tensorflow import keras\n",
        "# from tensorflow.keras import layers\n",
        "# from tensorflow.keras.models import Sequential"
      ]
    },
    {
      "cell_type": "markdown",
      "source": [
        "**Reading the pandas file and orienting the X and y**"
      ],
      "metadata": {
        "id": "G-Itb_8xUrZN"
      }
    },
    {
      "cell_type": "code",
      "source": [
        "df = pd.read_csv('https://raw.githubusercontent.com/amankharwal/Website-data/master/CarPrice.csv')\n",
        "\n",
        "# X = df[['car_ID', 'symboling', 'CarName', 'fueltype', 'aspiration', 'doornumber', 'carbody', 'drivewheel', 'enginelocation', 'wheelbase', 'carlength', 'carwidth', 'carheight', 'curbweight', 'enginetype', 'cylindernumber', 'enginesize', 'fuelsystem', 'boreratio', 'stroke', 'compressionratio', 'horsepower', 'peakrpm', 'citympg', 'highwaympg']]\n",
        "# y = df['price']\n",
        "\n",
        "X = df.drop('price', axis=1)\n",
        "y = df['price']"
      ],
      "metadata": {
        "id": "TMmDPh7FUVWc"
      },
      "execution_count": 3,
      "outputs": []
    },
    {
      "cell_type": "markdown",
      "source": [
        "**Using a standard scaler model**"
      ],
      "metadata": {
        "id": "4zItTCosYpPJ"
      }
    },
    {
      "cell_type": "code",
      "source": [
        "from sklearn.preprocessing import StandardScaler\n",
        "scale = StandardScaler()\n",
        "scale.fit_transform(X[['carlength', 'carwidth', 'carheight']])\n",
        "inputScale = scale.transform(X[['carlength', 'carwidth', 'carheight']])\n",
        "scaleIt = pd.DataFrame(inputScale, columns=['carlength', 'carwidth', 'carheight'])"
      ],
      "metadata": {
        "id": "sQ_9KtmJVsUI"
      },
      "execution_count": 4,
      "outputs": []
    },
    {
      "cell_type": "markdown",
      "source": [
        "**Predicting car price using linear regression**"
      ],
      "metadata": {
        "id": "S806Tu7KYuZx"
      }
    },
    {
      "cell_type": "code",
      "source": [
        "from sklearn.linear_model import LinearRegression\n",
        "\n",
        "model = LinearRegression()\n",
        "model.fit(X[['carlength', 'carwidth', 'carheight']], y)\n",
        "y_pred = model.predict([[90.0, 80.0, 70.0]])\n",
        "print(y_pred)"
      ],
      "metadata": {
        "colab": {
          "base_uri": "https://localhost:8080/"
        },
        "id": "7FiIj211WT4a",
        "outputId": "8d0fe0f9-fe62-488c-82d8-bffecc79aa28"
      },
      "execution_count": 7,
      "outputs": [
        {
          "output_type": "stream",
          "name": "stdout",
          "text": [
            "[14697.5292916]\n"
          ]
        },
        {
          "output_type": "stream",
          "name": "stderr",
          "text": [
            "/usr/local/lib/python3.10/dist-packages/sklearn/base.py:439: UserWarning: X does not have valid feature names, but LinearRegression was fitted with feature names\n",
            "  warnings.warn(\n"
          ]
        }
      ]
    },
    {
      "cell_type": "markdown",
      "source": [
        "**Predicting car price using decision tree regressor**"
      ],
      "metadata": {
        "id": "a0nguS7FYyrc"
      }
    },
    {
      "cell_type": "code",
      "source": [
        "from sklearn.tree import DecisionTreeRegressor\n",
        "\n",
        "tr = DecisionTreeRegressor()\n",
        "tr.fit(X[['carlength', 'carwidth', 'carheight']], y)\n",
        "y_pred2 = tr.predict([[90.0, 80.0, 70.0]])\n",
        "print(y_pred2)"
      ],
      "metadata": {
        "colab": {
          "base_uri": "https://localhost:8080/"
        },
        "id": "TfymkGqIULu2",
        "outputId": "66d29705-656e-42de-84af-21166a714f32"
      },
      "execution_count": 10,
      "outputs": [
        {
          "output_type": "stream",
          "name": "stdout",
          "text": [
            "[28248.]\n"
          ]
        },
        {
          "output_type": "stream",
          "name": "stderr",
          "text": [
            "/usr/local/lib/python3.10/dist-packages/sklearn/base.py:439: UserWarning: X does not have valid feature names, but DecisionTreeRegressor was fitted with feature names\n",
            "  warnings.warn(\n"
          ]
        }
      ]
    },
    {
      "cell_type": "markdown",
      "source": [
        "**Predicting car price using Random Forest regressor**"
      ],
      "metadata": {
        "id": "LjtYlIRfY3PU"
      }
    },
    {
      "cell_type": "code",
      "source": [
        "from sklearn.ensemble import RandomForestRegressor,GradientBoostingRegressor\n",
        "\n",
        "random_forest = RandomForestRegressor()\n",
        "random_forest.fit(X[['carlength', 'carwidth', 'carheight']], y)\n",
        "y_pred3 = random_forest.predict([[90.0, 80.0, 70.0]])\n",
        "print(y_pred3)"
      ],
      "metadata": {
        "colab": {
          "base_uri": "https://localhost:8080/"
        },
        "id": "va59y4eZUXcC",
        "outputId": "6afdb954-6e95-4e55-a235-adeaa9c4148d"
      },
      "execution_count": 9,
      "outputs": [
        {
          "output_type": "stream",
          "name": "stdout",
          "text": [
            "[27304.68]\n"
          ]
        },
        {
          "output_type": "stream",
          "name": "stderr",
          "text": [
            "/usr/local/lib/python3.10/dist-packages/sklearn/base.py:439: UserWarning: X does not have valid feature names, but RandomForestRegressor was fitted with feature names\n",
            "  warnings.warn(\n"
          ]
        }
      ]
    }
  ]
}